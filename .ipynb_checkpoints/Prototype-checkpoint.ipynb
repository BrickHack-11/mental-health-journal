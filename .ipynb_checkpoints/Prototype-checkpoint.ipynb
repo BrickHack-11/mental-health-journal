{
 "cells": [
  {
   "cell_type": "code",
   "execution_count": 20,
   "id": "4d7a9341-feec-4981-b09c-639b001fe875",
   "metadata": {},
   "outputs": [
    {
     "name": "stdout",
     "output_type": "stream",
     "text": [
      "<think>\n",
      "Alright, let's tackle this query step by step. The user has provided a journal entry from a 30-year-old female and is asking me to analyze the sentiments in it and suggest two self-care tips. They also want the sentiment categorized as positive, mostly positive, mostly negative, or negative. Plus, they specified not to include any tags.\n",
      "\n",
      "First, I need to read through the journal entry carefully. The woman is feeling down because she won't get a job and has the loan on her head, leading to an \"end\" that's quite sad. She mentions losing hope, being unhappy with the financial situation, and questioning her career prospects.\n",
      "\n",
      "Looking at the sentiments here: her feelings are definitely negative. She feels unfulfilled and is stuck in this loop of not finding a job and having financial stress. The tone is pretty down-to-earth and quite somber.\n",
      "\n",
      "Now, for sentiment categorization. The entry paints a picture of disappointment, frustration, and emptiness. So, the sentiment here would be mostly negative because it's very emotional and downcast. There are no positive elements mentioned, so not much positivity there either.\n",
      "\n",
      "Next, self-care tips. The user wants two polite and sensitive suggestions without tags. They should address her feelings of hopelessness and financial stress. I think suggesting a routine exercise and connecting with nature makes sense as they're both practical and healthy. Also, maybe something for mental relaxation, like mindfulness or focusing on the present.\n",
      "\n",
      "I need to ensure the tips are actionable and align with self-care practices. Regular exercise helps maintain physical health, which can indirectly support overall well-being. Spending time in nature is a great way to relax and reduce stress. Focusing on the present makes sense because it's easy for people to lose sight of their worth when they're feeling down.\n",
      "\n",
      "I should make sure the language is empathetic and sincere without being overly grand or insensitive. It's about helping her feel better while expressing her feelings correctly.\n",
      "</think>\n",
      "\n",
      "### Sentiment Analysis:\n",
      "The journal entry shows a mix of negative emotions, but the most prominent sentiment is **negative**. The writer expresses disappointment with her current situation—loss of hope, financial strain, and feeling stuck in an unhappy loop. The tone is somber and emotionally heavy.\n",
      "\n",
      "---\n",
      "\n",
      "### Self-Care Tips:\n",
      "\n",
      "1. **Regular Exercise**: Engage in a regular exercise routine (e.g., walking, yoga, or dancing) to maintain physical health and reduce stress.  \n",
      "2. **Nature Connection**: Spend time outdoors or in nature to relax, connect with the earth, and reduce mental stress.\n"
     ]
    }
   ],
   "source": [
    "from ollama import chat\n",
    "\n",
    "age = 30\n",
    "gender = 'Female'\n",
    "\n",
    "pre_prompt = 'Here is the journal entry of a ' + str(age) + ' year old ' + str(gender) + ':' \n",
    "post_prompt = ' analyse the sentiments in this entry and give me a sentiment (positive, mostly positive, mostly negative and negative) that matches the most. Then based on the entry suggest 2 self care tips. You should be polite and sensitive while doing this. Do not send the <think> tags.'\n",
    "\n",
    "journal_entry = 'I am not feeling very good today, It seems I won\\'t get a job, and with the loan over my head it seems everything is coming to an depressing end'\n",
    "\n",
    "content = pre_prompt + journal_entry + post_prompt\n",
    "\n",
    "response = chat(model='deepseek-r1:1.5b', messages=[\n",
    "    {\n",
    "        'role': 'user',\n",
    "        'content': content,\n",
    "    }\n",
    "])\n",
    "\n",
    "print(response.message.content)"
   ]
  },
  {
   "cell_type": "code",
   "execution_count": null,
   "id": "036d4a09-7697-4bb8-9c3c-2f54638e4a1c",
   "metadata": {},
   "outputs": [],
   "source": []
  }
 ],
 "metadata": {
  "kernelspec": {
   "display_name": "Python 3 (ipykernel)",
   "language": "python",
   "name": "python3"
  },
  "language_info": {
   "codemirror_mode": {
    "name": "ipython",
    "version": 3
   },
   "file_extension": ".py",
   "mimetype": "text/x-python",
   "name": "python",
   "nbconvert_exporter": "python",
   "pygments_lexer": "ipython3",
   "version": "3.12.1"
  }
 },
 "nbformat": 4,
 "nbformat_minor": 5
}
